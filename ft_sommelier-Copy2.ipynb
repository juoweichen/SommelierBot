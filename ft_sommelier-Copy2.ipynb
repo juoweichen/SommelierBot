{
 "cells": [
  {
   "cell_type": "markdown",
   "metadata": {},
   "source": [
    "# V.1 Exploring the green reds"
   ]
  },
  {
   "cell_type": "markdown",
   "metadata": {},
   "source": [
    "# a) Write a function that will plot a scatterplot matrix"
   ]
  },
  {
   "cell_type": "code",
   "execution_count": 1,
   "metadata": {},
   "outputs": [],
   "source": [
    "import pandas as pd\n",
    "import matplotlib.pyplot as plt"
   ]
  },
  {
   "cell_type": "code",
   "execution_count": 2,
   "metadata": {},
   "outputs": [],
   "source": [
    "def plot_scatter_matrix(wine_data, good_threshold, bad_threshold, save_plot=False):\n",
    "    # pandas read csv as DataFrame\n",
    "    df = pd.read_csv(wine_data, delimiter=\";\")\n",
    "    # Convert dataframe value to array\n",
    "    data = df.values\n",
    "    # get data & variable number\n",
    "    numdata, numvar = data.shape\n",
    "\n",
    "    # output two objects, whole plot fig and a set of subplot axes \n",
    "    fig, axes = plt.subplots(nrows=numvar, ncols=numvar, figsize=(24,24))\n",
    "    # close space between subplot\n",
    "    fig.subplots_adjust(hspace=0, wspace=0)\n",
    "\n",
    "    # Hide all ticks and labels\n",
    "    for ax in axes.flat:\n",
    "        ax.xaxis.set_visible(False)\n",
    "        ax.yaxis.set_visible(False)\n",
    "\n",
    "    # upper triangle coordinate\n",
    "    tri_upper = []\n",
    "    for row in range(numvar):\n",
    "        for col in range(row + 1, numvar):\n",
    "            tri_upper.append([row, col])\n",
    "\n",
    "    # change quality value to color list\n",
    "    cq = []\n",
    "    for i in range(numdata):\n",
    "        if (df['quality'].values[i] >= good_threshold):\n",
    "            cq.append('green')\n",
    "        elif (df['quality'].values[i] <= bad_threshold):\n",
    "            cq.append('red')\n",
    "        else:\n",
    "            cq.append('none')\n",
    "        \n",
    "    # Plot the data\n",
    "    for i, j in tri_upper:\n",
    "        for x, y in [(i,j), (j, i)]:\n",
    "            axes[x,y].scatter(data[:,y % numvar], data[:,x % numvar], s=3, c=cq)\n",
    "\n",
    "    # Label the diagonal subplots...\n",
    "    names = df.columns.values\n",
    "    for i, label in enumerate(names):\n",
    "        axes[i,i].annotate(label, (0.5, 0.5), xycoords='axes fraction', ha='center', va='center', size=12)\n",
    "\n",
    "    # show fig\n",
    "    fig.show()\n",
    "    if (save_plot == True):\n",
    "        fig.savefig('scatter_matrix.png')"
   ]
  },
  {
   "cell_type": "code",
   "execution_count": null,
   "metadata": {},
   "outputs": [],
   "source": [
    "plot_scatter_matrix('winequality-red.csv', 8, 3, True)"
   ]
  },
  {
   "cell_type": "markdown",
   "metadata": {},
   "source": [
    "# Referance\n",
    "\n",
    "Basic Panda: https://ithelp.ithome.com.tw/articles/10191588<br>\n",
    "make scattorplot matrix: https://stackoverflow.com/questions/7941207/is-there-a-function-to-make-scatterplot-matrices-in-matplotlib<br>\n",
    "zip() in GeeksforGeeks: https://www.geeksforgeeks.org/zip-in-python/<br>\n",
    "save plot: https://pythonspot.com/matplotlib-save-figure-to-image-file/<br>\n",
    "\n",
    "## Doc\n",
    "\n",
    "matplotlib.pyplot.scatter: https://matplotlib.org/api/_as_gen/matplotlib.pyplot.scatter.html#matplotlib.pyplot.scatter<br>\n",
    "matplotlib.pyplot.subplots: https://matplotlib.org/api/_as_gen/matplotlib.pyplot.subplots.html<br> matplotlib.figure.Figure: https://matplotlib.org/api/_as_gen/matplotlib.figure.Figure.html<br>\n",
    "numpy.triu_indices_from: https://docs.scipy.org/doc/numpy/reference/generated/numpy.triu_indices_from.html<br>\n",
    "matplotlib.pyplot.annotate: https://matplotlib.org/api/_as_gen/matplotlib.pyplot.annotate.html<br>"
   ]
  },
  {
   "cell_type": "markdown",
   "metadata": {},
   "source": [
    "# b)  Question:\n",
    "Now that you’ve had a chance to analyze different chemical factors in red wines and their relationship with high scores (8 or higher) and low scores (3 or lower), which factors do you think will be most useful to your perceptron for distinguishing high quality vs. low quality wines? Why?\n",
    "\n",
    "# Answer:\n",
    "I assume if the factors can be seperate good and bad by eyes, that's a useful factor to distinguish wine quality.<br>\n",
    "<br>\n",
    "My observation as follow:<br>\n",
    "pH & alcohol / alcohol & volatile acidity / density & citric acid<br>"
   ]
  },
  {
   "cell_type": "markdown",
   "metadata": {},
   "source": [
    "# V.2 Learning to perceptron"
   ]
  },
  {
   "cell_type": "markdown",
   "metadata": {},
   "source": [
    "## a) & b) Perceptron Implementation"
   ]
  },
  {
   "cell_type": "code",
   "execution_count": 3,
   "metadata": {},
   "outputs": [],
   "source": [
    "import pandas as pd\n",
    "import matplotlib.pyplot as plt\n",
    "import random\n",
    "import sys\n",
    "import math"
   ]
  },
  {
   "cell_type": "code",
   "execution_count": 4,
   "metadata": {},
   "outputs": [],
   "source": [
    "def build_data(df, factors, good_thresh, bad_thresh):\n",
    "    # Only catch data over or below threshold\n",
    "    for i in range(len(df)):\n",
    "        if (df.loc[i, 'quality'] < good_thresh and df.loc[i, 'quality'] > bad_thresh):\n",
    "            df = df.drop([i])\n",
    "    # build dataFrame\n",
    "    df = df[factors]\n",
    "    return df\n",
    "    \n",
    "def build_target(df, good_thresh, bad_thresh, value=[1, 0]):\n",
    "    # Only catch data over or below threshold, and transfer to 1 & 0\n",
    "    for i in range(len(df)):\n",
    "        if (df.loc[i, 'quality'] >= good_thresh):\n",
    "            df.loc[i, 'quality'] = value[0]\n",
    "        elif (df.loc[i, 'quality'] <= bad_thresh):\n",
    "            df.loc[i, 'quality'] = value[1]\n",
    "        else:\n",
    "            df = df.drop([i])\n",
    "    # build dataFrame\n",
    "    target = pd.DataFrame(df['quality'].values, columns=['target'])    \n",
    "    df = df['quality']\n",
    "    return (df)\n",
    "\n",
    "def build_dataset(wine_data, factors, good_thresh, bad_thresh, value=[1, 0]):\n",
    "    # pandas read csv as DataFrame\n",
    "    df = pd.read_csv(wine_data, delimiter=\";\")\n",
    "    data = build_data(df, factors, good_thresh, bad_thresh)\n",
    "    target = build_target(df, good_thresh, bad_thresh, value)\n",
    "    return data.reset_index(drop=True), target.reset_index(drop=True)"
   ]
  },
  {
   "cell_type": "code",
   "execution_count": 5,
   "metadata": {},
   "outputs": [],
   "source": [
    "class ANN: \n",
    "    def ft_arrayDotList(self, a, l):\n",
    "        size = a.shape[0]\n",
    "        re = [0 for i in range(size)]\n",
    "        for i in range(size):\n",
    "            re[i] = self.getNetValue(a[i], l)\n",
    "        return pd.DataFrame([re]).values[0]\n",
    "    \n",
    "    def getNetValue(self, s1, s2):\n",
    "        net = 0;\n",
    "        for i in range(len(s1)):\n",
    "            net += s1[i] * s2[i]\n",
    "        return net\n",
    "\n",
    "    def ft_transpose(self, m1):\n",
    "        df = pd.DataFrame(m1)\n",
    "        new = []\n",
    "        for col in range(m1.shape[1]):\n",
    "            new.append(df.iloc[:, col].values)\n",
    "        return pd.DataFrame(new).values"
   ]
  },
  {
   "cell_type": "code",
   "execution_count": 6,
   "metadata": {},
   "outputs": [],
   "source": [
    "class Perceptron(ANN):\n",
    "    def __init__(self, lr, epoch):\n",
    "        ANN.__init__(self)\n",
    "        self.lr = lr\n",
    "        if (epoch <= 0):\n",
    "            epoch = sys.maxsize\n",
    "        self.epoch = epoch\n",
    "        \n",
    "    def train(self, data, target, verbose = True):\n",
    "        curEpoch = 0\n",
    "        performance = []\n",
    "        self.weight = [random.uniform(-1, 1) for i in range(data.shape[1] + 1)]\n",
    "        # Start training\n",
    "        for _ in range(self.epoch):\n",
    "            epochError = 0\n",
    "            # Update weight\n",
    "            for xi, yi in zip(data, target):\n",
    "                deltaW = self.lr * (yi - self.predict(xi))\n",
    "                self.weight[0] += deltaW\n",
    "                self.weight[1:] += deltaW * xi\n",
    "                epochError += int(deltaW != 0.0)\n",
    "            # record performance\n",
    "            curEpoch += 1\n",
    "            performance.append((curEpoch, epochError, self.weight))\n",
    "            if (verbose == True):\n",
    "                print(f\"Training preceptron, curEpoch: {curEpoch}, errorNumber: {epochError}\")\n",
    "            if ((self.epoch == sys.maxsize and epochError <= 0) or (curEpoch > 20000)):\n",
    "                break\n",
    "        return performance\n",
    "\n",
    "    def predict(self, x):\n",
    "        return 1 if self.activation(x) >= 0.0 else 0\n",
    "    \n",
    "    def activation(self, x):\n",
    "        return self.getNetValue(self.weight[1:], x) + self.weight[0]"
   ]
  },
  {
   "cell_type": "markdown",
   "metadata": {},
   "source": [
    "## c) Generate performance plot"
   ]
  },
  {
   "cell_type": "code",
   "execution_count": 7,
   "metadata": {},
   "outputs": [],
   "source": [
    "def draw_number_of_errors(ax, performance, epoch):\n",
    "    # epoch error check\n",
    "    if (epoch == -1):\n",
    "        epoch = len(performance)\n",
    "    \n",
    "    # set scatter plot x and y\n",
    "    er = []\n",
    "    ep = []\n",
    "    for i in range(epoch):\n",
    "        ep.append(performance[i][0])\n",
    "        er.append(performance[i][1])\n",
    "    \n",
    "    # draw scatter plot\n",
    "    ax[0].plot(ep, er, label='Errors as a function of epoch')\n",
    "    ax[0].set(xlabel='Epoch', ylabel='Error')\n",
    "    ax[0].set_title('Errors as a function of epochs')\n",
    "\n",
    "def draw_decision_boundary(ax, data, performance, epoch):\n",
    "    # set boundary\n",
    "    x_min = data.iloc[:,0].min()\n",
    "    x_max = data.iloc[:,0].max()\n",
    "    y_min = data.iloc[:,1].min()\n",
    "    y_max = data.iloc[:,1].max()\n",
    "    x_rg = x_max - x_min\n",
    "    y_rg = y_max - y_min\n",
    "    ax[1].set_xlim([x_min - 0.05 * x_rg, x_max + 0.05 * x_rg])\n",
    "    ax[1].set_ylim([y_min - 0.05 * y_rg, y_max + 0.05 * y_rg])\n",
    "    \n",
    "    # get decision boundary line equation\n",
    "    wx = performance[epoch][2][1]\n",
    "    wy = performance[epoch][2][2]\n",
    "    b = performance[epoch][2][0]\n",
    "    slope = -wx/wy\n",
    "    intercept = -b/wy\n",
    "    x_coords = range(int(x_min) - 1, int(x_max) + 2)\n",
    "    y_coords = slope * x_coords + intercept\n",
    "    \n",
    "    # draw Drecision boundary\n",
    "    ax[1].plot(x_coords, y_coords, 'b--', label='Decision boundary')\n",
    "    ax[1].fill_between(x_coords, y_coords, y_min - 0.05 * y_rg, color='pink')\n",
    "    ax[1].fill_between(x_coords, y_coords, y_max + 0.05 * y_rg, color='palegreen')\n",
    "    \n",
    "def draw_scatter_plot(ax, data, target, epoch, good_thresh, bad_thresh):\n",
    "    # Join data and target, split good and bad wine data\n",
    "    wine_data = pd.DataFrame(data.values)\n",
    "    wine_data.insert(2, 'target', target.values)\n",
    "    good_wine = wine_data[(wine_data['target'] > 0)]\n",
    "    bad_wine = wine_data[(wine_data['target'] <= 0)]\n",
    "    \n",
    "    # draw\n",
    "    ax[1].scatter(good_wine.iloc[:,0].values,good_wine.iloc[:,1].values, c='green', s=10, label=f'good wines (> {good_thresh} score)')\n",
    "    ax[1].scatter(bad_wine.iloc[:,0].values,bad_wine.iloc[:,1].values, c='red', s=10, label=f'bad wines (< {bad_thresh} score)')\n",
    "    ax[1].set(xlabel=data.columns[0], ylabel=data.columns[1])\n",
    "    ax[1].set_title(f'Decision boundary at epoch {epoch}')\n",
    "    ax[1].legend(bbox_to_anchor=(1, 1), loc='upper left')\n",
    "\n",
    "def draw_cost_plot(performance, data, epoch, save_plot=False):\n",
    "    # epoch error check\n",
    "    if (epoch == -1):\n",
    "        epoch = len(performance)\n",
    "    \n",
    "    # set scatter plot x and y\n",
    "    er = []\n",
    "    ep = []\n",
    "    for i in range(epoch):\n",
    "        ep.append(performance[i][0])\n",
    "        er.append(performance[i][3])\n",
    "    \n",
    "    # draw scatter plot\n",
    "    plt.plot(ep, er)\n",
    "    plt.xlabel(\"Epoch\")\n",
    "    plt.ylabel(\"Cost\")\n",
    "    plt.title(\"Cost of epoch\")\n",
    "    \n",
    "    plt.show()\n",
    "    if (save_plot):\n",
    "        fig.savefig(\"Cost Plot: \" + data.columns[0] + \" & \" + data.columns[1])\n",
    "\n",
    "def plot_performace(performance, data, target, good_thresh, bad_thresh, epoch=-1, save_plot=False):\n",
    "    # set subplot\n",
    "    fig, ax = plt.subplots(nrows=1, ncols=2, figsize=(15, 5))\n",
    "     \n",
    "    # some epoch error check\n",
    "    if (epoch > len(performance)):\n",
    "        epoch = len(performance)\n",
    "    \n",
    "    # draw\n",
    "    draw_number_of_errors(ax, performance, epoch)\n",
    "    draw_decision_boundary(ax, data, performance, epoch)\n",
    "    draw_scatter_plot(ax, data, target, performance[epoch][0], good_thresh, bad_thresh)\n",
    "\n",
    "    fig.show()\n",
    "    \n",
    "    if (save_plot):\n",
    "        fig.savefig(\"Performance Plot: \" + data.columns[0] + \" & \" + data.columns[1])"
   ]
  },
  {
   "cell_type": "code",
   "execution_count": 8,
   "metadata": {},
   "outputs": [
    {
     "name": "stderr",
     "output_type": "stream",
     "text": [
      "/anaconda3/lib/python3.7/site-packages/matplotlib/figure.py:457: UserWarning: matplotlib is currently using a non-GUI backend, so cannot show the figure\n",
      "  \"matplotlib is currently using a non-GUI backend, \"\n"
     ]
    },
    {
     "data": {
      "image/png": "[encoded data removed]",
      "text/plain": [
       "<Figure size 1080x360 with 2 Axes>"
      ]
     },
     "metadata": {
      "needs_background": "light"
     },
     "output_type": "display_data"
    }
   ],
   "source": [
    "data , target = build_dataset(\"winequality-red.csv\", ['pH', 'alcohol'], 8, 3)\n",
    "precep = Perceptron(1, 0)\n",
    "performance = precep.train(data.values, target.values, verbose=False)\n",
    "plot_performace(performance, data, target, 8, 3, -1, True)"
   ]
  },
  {
   "cell_type": "markdown",
   "metadata": {},
   "source": [
    "## d) modify the red wine data to help the perceptron learn more efficient"
   ]
  },
  {
   "cell_type": "code",
   "execution_count": 9,
   "metadata": {},
   "outputs": [],
   "source": [
    "def getMean(xj):\n",
    "    return sum(xj) / len(xj)\n",
    "\n",
    "def getStdDev(xj):\n",
    "    mu = getMean(xj)\n",
    "    se = (xj - mu)**2\n",
    "    sse = sum(se)\n",
    "    return math.sqrt(sse / (len(xj) - 1))\n",
    "\n",
    "def standardization(data):\n",
    "    new = pd.DataFrame()\n",
    "    for col in range(data.shape[1]):\n",
    "        xj = data.iloc[:,col].values\n",
    "        std_xj = (xj - getMean(xj)) / getStdDev(xj)\n",
    "        new[data.columns[col]] = std_xj\n",
    "    return new\n",
    "\n",
    "def meanNormalization(data):\n",
    "    new = pd.DataFrame()\n",
    "    for col in range(data.shape[1]):\n",
    "        xj = data.iloc[:,col].values\n",
    "        xj_min = min(xj)\n",
    "        xj_max = max(xj)\n",
    "        xj_mean = getMean(xj)\n",
    "        new[data.columns[col]] = (xj - xj_mean) / (xj_max - xj_min)\n",
    "    return new"
   ]
  },
  {
   "cell_type": "code",
   "execution_count": null,
   "metadata": {},
   "outputs": [],
   "source": [
    "data , target = build_dataset(\"winequality-red.csv\", ['pH', 'alcohol'], 8, 3)\n",
    "std_data = standardization(data)\n",
    "precep = Perceptron(0.01, 0)\n",
    "performance = precep.train(std_data.values, target.values, verbose=False)\n",
    "plot_performace(performance, std_data, target, 8, 3, -1, True)"
   ]
  },
  {
   "cell_type": "markdown",
   "metadata": {},
   "source": [
    "# Referance\n",
    "## Perceptron\n",
    "\n",
    "Perceptron basic: https://towardsdatascience.com/what-the-hell-is-perceptron-626217814f53<br>\n",
    "Perceptron algorithm: https://towardsdatascience.com/perceptron-learning-algorithm-d5db0deab975<br>\n",
    "19-line Line-by-line Python Perceptron: https://medium.com/@thomascountz/19-line-line-by-line-python-perceptron-b6f113b161f3<br>\n",
    "The Perception Learning Rule - Tutorial: http://uni-obuda.hu/users/fuller.robert/perception.pdf<br>\n",
    "\n",
    "## Python\n",
    "\n",
    "Find the Angle Between Two Vectors: https://www.wikihow.com/Find-the-Angle-Between-Two-Vectors<br>\n",
    "law of cosines: https://www.mathopenref.com/lawofcosinesproof.html<br>\n",
    "Pandas Data Selection: https://www.shanelynn.ie/select-pandas-dataframe-rows-and-columns-using-iloc-loc-and-ix/<br>\n",
    "loading, editing, and viewing data: https://www.shanelynn.ie/using-pandas-dataframe-creating-editing-viewing-data-in-python/<br>\n",
    "iter row in DataFrame: https://stackoverflow.com/questions/16476924/how-to-iterate-over-rows-in-a-dataframe-in-pandas<br>\n",
    "pandas iteration: https://www.tutorialspoint.com/python_pandas/python_pandas_iteration.htm<br>\n",
    "Joining DataFrames in Pandas: https://www.datacamp.com/community/tutorials/joining-dataframes-pandas<br>\n",
    "\n",
    "## Plot\n",
    "\n",
    "Graph plotting: https://www.geeksforgeeks.org/graph-plotting-in-python-set-1/<br>\n",
    "Plot Straight line: https://scriptverse.academy/tutorials/python-matplotlib-plot-straight-line.html<br>\n",
    "Legend guide: https://matplotlib.org/tutorials/intermediate/legend_guide.html<br>\n",
    "\n",
    "## Doc\n",
    "\n",
    "pandas insert: https://pandas.pydata.org/pandas-docs/stable/reference/api/pandas.DataFrame.insert.html<br>\n",
    "pandas.DataFrame: https://pandas.pydata.org/pandas-docs/version/0.23.4/generated/pandas.DataFrame.html<br>\n",
    "pandas.DataFrame.drop: https://pandas.pydata.org/pandas-docs/stable/reference/api/pandas.DataFrame.drop.html<br>\n",
    "pandas.DataFrame.dot: https://pandas.pydata.org/pandas-docs/stable/reference/api/pandas.DataFrame.dot.html<br>\n",
    "pandas.DataFrame.add: http://pandas.pydata.org/pandas-docs/stable/reference/api/pandas.DataFrame.add.html<br>"
   ]
  },
  {
   "cell_type": "markdown",
   "metadata": {},
   "source": [
    "# V.3 My fair ADALINE"
   ]
  },
  {
   "cell_type": "markdown",
   "metadata": {},
   "source": [
    "## a) Marvin notices and chides you for torturing your perceptron. Why?\n",
    "Frank Rosenblatt proved mathematically that the perceptron learning rule converges if the two classes can be separated by a linear hyperplane. However, if classes cannot be separated perfectly by such a linear decision boundary, the weights will never stop updating unless we set a maximum number of epochs."
   ]
  },
  {
   "cell_type": "markdown",
   "metadata": {},
   "source": [
    "## b) & C) implement ADALINE"
   ]
  },
  {
   "cell_type": "code",
   "execution_count": 10,
   "metadata": {},
   "outputs": [],
   "source": [
    "class Adaline(ANN):\n",
    "    \n",
    "    def __init__(self, lr, epoch, accu):\n",
    "        ANN.__init__(self)\n",
    "        self.lr = lr\n",
    "        if (epoch <= 0):\n",
    "            epoch = sys.maxsize\n",
    "        self.epoch = epoch\n",
    "        self.accu = accu\n",
    "    \n",
    "    def train(self, data, target, verbose=True, online=False):\n",
    "        data_size = len(data)\n",
    "        curEpoch = 0\n",
    "        performance = []\n",
    "        self.weight = [0.0001 * random.uniform(-1, 1) for i in range(data.shape[1] + 1)]\n",
    "        # Start training\n",
    "        for _ in range(self.epoch):\n",
    "            net_epoch = []\n",
    "            error_epoch = []\n",
    "            errorNumber = 0\n",
    "            # update weight by batch\n",
    "            for xi, yi in zip(data, target):\n",
    "                netInput = self.net_input(xi)\n",
    "                error = yi - netInput\n",
    "                error_epoch.append(error)\n",
    "                net_epoch.append(netInput)\n",
    "                if (online == True):\n",
    "                    self.weight[0] += self.lr * error\n",
    "                    self.weight[1:] += self.lr * (xi * error)\n",
    "            if (online == False):\n",
    "                self.weight[0] += self.lr * sum(error_epoch)\n",
    "                self.weight[1:] += self.lr * self.ft_arrayDotList(self.ft_transpose(data), error_epoch)\n",
    "            # calculate cost\n",
    "            for i in range(len(error_epoch)):\n",
    "                error_epoch[i] = error_epoch[i] ** 2\n",
    "            cost = sum(error_epoch) / 2\n",
    "            # record performance\n",
    "            errorNumber = self.errorCount(net_epoch, target);\n",
    "            curEpoch += 1\n",
    "            status = self.StopCondition(curEpoch, performance, data_size, verbose)\n",
    "            performance.append((curEpoch, errorNumber, self.weight, cost, status))\n",
    "            if (self.epoch == sys.maxsize and status != 0):\n",
    "                break\n",
    "        return performance\n",
    "    \n",
    "    def StopCondition(self, curEpoch, performance, data_size, verbose):\n",
    "        \"\"\"\n",
    "        return:\n",
    "        0: not stop yet\n",
    "        1: reach target accuracy\n",
    "        2: take too much epochs\n",
    "        -1: diverge\n",
    "        \"\"\"\n",
    "        if (curEpoch > 2):\n",
    "            accuracy = 1 - (performance[-1][1] / data_size)\n",
    "            # if cost rising more then 10%\n",
    "            if (performance[-2][3]/performance[-1][3] < 0.9):\n",
    "                if (verbose == True):\n",
    "                    print(f\"Model diverge at curEpoch: {curEpoch}, accuracy: {accuracy:3f}, errorNumber: {performance[-1][1]}\") \n",
    "                return -1\n",
    "            # if reach 95% accuracy\n",
    "            if (accuracy > self.accu):\n",
    "                if (verbose == True):\n",
    "                    print(f\"Model converge at curEpoch: {curEpoch}, accuracy: {accuracy:3f}, errorNumber: {performance[-1][1]}\") \n",
    "                return 1\n",
    "            # if taking too much epoch\n",
    "            if (curEpoch > 10000):\n",
    "                if (verbose == True):\n",
    "                    print(f\"Training over {curEpoch} epochs, accuracy: {accuracy:3f}, errorNumber: {performance[-1][1]}\") \n",
    "                return 2\n",
    "            # print(f\"curEpoch: {curEpoch}, errorNumber: {performance[-1][1]}, accuracy: {accuracy: 3f}\") \n",
    "        return 0\n",
    "    \n",
    "    def net_input(self, x):\n",
    "        return self.getNetValue(x, self.weight[1:]) + self.weight[0]\n",
    "\n",
    "    def activation(self, x):\n",
    "        return self.net_input(x)\n",
    "    \n",
    "    def errorCount(self, net, target):\n",
    "        count = 0\n",
    "        for i in range(len(net)):\n",
    "            if ((target[i] >= 0 and net[i] < 0) or (target[i] < 0 and net[i] >= 0)):\n",
    "                count += 1\n",
    "        return count\n",
    "    \n",
    "    def predict(self, x):\n",
    "        return 1 if self.net_input(x) > 0 else -1"
   ]
  },
  {
   "cell_type": "code",
   "execution_count": null,
   "metadata": {
    "scrolled": true
   },
   "outputs": [],
   "source": [
    "data , target = build_dataset(\"winequality-red.csv\", ['pH', 'alcohol'], 7, 4, value=[1, -1])"
   ]
  },
  {
   "cell_type": "code",
   "execution_count": null,
   "metadata": {},
   "outputs": [],
   "source": [
    "data = standardization(data)"
   ]
  },
  {
   "cell_type": "code",
   "execution_count": null,
   "metadata": {
    "scrolled": true
   },
   "outputs": [],
   "source": [
    "ada1 = Adaline(0.005, 0, 0.8)\n",
    "performance = ada1.train(data.values, target.values, verbose=True, online=False)\n",
    "plot_performace(performance, data, target, 6, 5, -1, save_plot=True)"
   ]
  },
  {
   "cell_type": "code",
   "execution_count": null,
   "metadata": {},
   "outputs": [],
   "source": [
    "draw_cost_plot(performance, data, -1, save_plot=False)"
   ]
  },
  {
   "cell_type": "markdown",
   "metadata": {},
   "source": [
    "## d) Find a good learning rate for your ADALINE"
   ]
  },
  {
   "cell_type": "code",
   "execution_count": 11,
   "metadata": {},
   "outputs": [],
   "source": [
    "def Adaline_find_learning_rate(data, target, accu, loop, lr_max, lr_min, verbose=False):\n",
    "    re_lr = 1\n",
    "    re_epoch = 10000\n",
    "    accuracy = 0\n",
    "    data_size = len(data)\n",
    "\n",
    "    for i in range(loop):\n",
    "        lr = random.uniform(lr_max, lr_min)\n",
    "        ada1 = Adaline(lr, 0, accu)\n",
    "        if (verbose):\n",
    "            print(f\"Round: {i}, learning rate:{lr:.7f}\", end = \"...\")\n",
    "        performance = ada1.train(data.values, target.values, verbose=True, online=False)\n",
    "        accuracy = 1 - (performance[-1][1] / data_size)\n",
    "        # Successfully converge, record performance\n",
    "        if (accuracy > accu and performance[-1][0] <= re_epoch):\n",
    "            best_performance = performance\n",
    "            re_lr = lr\n",
    "            re_epoch = performance[-1][0]\n",
    "        # taking too much epoch, higher min boundary\n",
    "        elif (performance[-1][4] == 2):\n",
    "            lr_min = lr\n",
    "        # Diverge, lowe`r max boundary\n",
    "        elif (performance[-1][4] == -1):\n",
    "            lr_max = lr\n",
    "    print(f\"--------------------------------------------------------------\")\n",
    "    print(f\"learning rate searching complete, searching result:\")\n",
    "    print(f\"best learning rate: {re_lr: .7f}, epoch taken: {re_epoch}, accuracy: {1 - (best_performance[-1][1] / data_size):.3f}\")\n",
    "    return re_lr, best_performance"
   ]
  },
  {
   "cell_type": "code",
   "execution_count": null,
   "metadata": {},
   "outputs": [],
   "source": [
    "data , target = build_dataset(\"winequality-red.csv\", ['pH', 'alcohol'], 7, 4, value=[1, -1])\n",
    "data = standardization(data)\n",
    "best_lr, best_performance = Adaline_find_learning_rate(data, target, 0.8, 30, 0.01, 0.00001, verbose=True)\n",
    "plot_performace(best_performance, data, target, 6, 5, -1, save_plot=True)"
   ]
  },
  {
   "cell_type": "markdown",
   "metadata": {},
   "source": [
    "# Referance\n",
    "Perceptron, Adaline, and neural network: https://sebastianraschka.com/faq/docs/diff-perceptron-adaline-neuralnet.html<br>\n",
    "Gradient Descent Rule for Linear Regression and Adaline: http://rasbt.github.io/mlxtend/user_guide/general_concepts/linear-gradient-derivative/<br>\n",
    "Gradient Descent and Stochastic Gradient Descent: http://rasbt.github.io/mlxtend/user_guide/general_concepts/gradient-optimization/<br>\n",
    "機器學習(3)--適應線性神經元與梯度下降法(Adaline neuron and Gradient descent): http://arbu00.blogspot.com/2017/02/3-adaline-neuron-and-gradient-descent.html<br>\n",
    "The \"Python Machine Learning (1st edition)\" book code repository and info resource: https://github.com/rasbt/python-machine-learning-book<br>\n",
    "人工神經網路(1)--使用Python實作perceptron(感知器): http://arbu00.blogspot.com/2016/11/1-pythonperceptron.html<br>\n",
    "機器學習(4)--資料標準常態化與隨機梯度下降法( standardization & Stochastic Gradient descent): http://arbu00.blogspot.com/2017/02/4-standardization-stochastic-gradient.html<br>\n",
    "Gradient Descent in a Nutshell: https://towardsdatascience.com/gradient-descent-in-a-nutshell-eaf8c18212f0<br>"
   ]
  },
  {
   "cell_type": "markdown",
   "metadata": {},
   "source": [
    "# V.4 Advanced wine sampling and resampling"
   ]
  },
  {
   "cell_type": "markdown",
   "metadata": {},
   "source": [
    "## a) Write a function that uses the holdout method to partition the red wine data into a training and a validation set."
   ]
  },
  {
   "cell_type": "code",
   "execution_count": 12,
   "metadata": {},
   "outputs": [],
   "source": [
    "def hold_out_dataset(data, target, split):\n",
    "    com = data.join(target)\n",
    "    train_set = com.sample(frac=split)\n",
    "    test_set = com.drop(train_set.index)\n",
    "    return train_set, test_set"
   ]
  },
  {
   "cell_type": "markdown",
   "metadata": {},
   "source": [
    "## b) Write a function that generates a k-fold cross-validation dataset from the red wine data."
   ]
  },
  {
   "cell_type": "code",
   "execution_count": 13,
   "metadata": {},
   "outputs": [],
   "source": [
    "def k_fold_dataset(data, target, k):\n",
    "    kset = []\n",
    "    k_fold_dataset = []\n",
    "    # Shuffle    \n",
    "    com = data.join(target)\n",
    "    com = com.sample(frac=1).reset_index(drop=True)\n",
    "    klen = int(len(com)/k)\n",
    "    # Split k fold\n",
    "    for i in range(k):\n",
    "        kset.append(com.iloc[i * klen:(i + 1) * klen])\n",
    "    # Store k fold dataset\n",
    "    for i in range(k):\n",
    "        km1 = pd.DataFrame()\n",
    "        for x in range(k):\n",
    "            if (x != i):\n",
    "                km1 = km1.append(kset[x])\n",
    "        k_fold_dataset.append((km1, kset[i]))\n",
    "    return k_fold_dataset"
   ]
  },
  {
   "cell_type": "markdown",
   "metadata": {},
   "source": [
    "## c) k-fold cross-validation"
   ]
  },
  {
   "cell_type": "code",
   "execution_count": 14,
   "metadata": {},
   "outputs": [],
   "source": [
    "def k_fold_cross_validation(k_fold_dataset, classifier, plot, _online):\n",
    "    result = []\n",
    "    \n",
    "    for k in range(len(k_fold_dataset)):\n",
    "        # Seperate data and target\n",
    "        train_data = k_fold_dataset[k][0].iloc[:, 0:-1].values\n",
    "        train_target = k_fold_dataset[k][0].iloc[:, -1].values\n",
    "        test_data = k_fold_dataset[k][1].iloc[:, 0:-1].values\n",
    "        test_target = k_fold_dataset[k][1].iloc[:, -1].values\n",
    "        # training\n",
    "        performance = classifier.train(train_data, train_target, verbose=False, online=_online)\n",
    "        # validating\n",
    "        correct = 0\n",
    "        for xi, yi in zip(test_data, test_target):\n",
    "            if yi == classifier.predict(xi):\n",
    "                correct += 1\n",
    "        print(f\"k: {k}, correct: {correct}\")\n",
    "        result.append(correct)\n",
    "        # plot test set performance\n",
    "        if (plot == True):\n",
    "            plot_performace(performance, pd.DataFrame(test_data, columns=k_fold_dataset[0][0].columns[0:-1]), pd.DataFrame(test_target), 6, 5, -1, save_plot=True)\n",
    "    \n",
    "    result = pd.DataFrame(result)\n",
    "    return result"
   ]
  },
  {
   "cell_type": "code",
   "execution_count": 15,
   "metadata": {},
   "outputs": [],
   "source": [
    "# Whole training process\n",
    "def adaline_training_process(wine_data, factors, good, bad, online, accu, search_lr=[30, 0.01, 0.00001], k=5, plot=False):\n",
    "    print(f\"Start Train Adaline, factor: {factors}, good: {good}, bad: {bad}, target accuracy: {accu}\")\n",
    "    data , target = build_dataset(wine_data, factors, good, bad, value=[1, -1])\n",
    "    \n",
    "    print(f\"Standardization data...\", end=\"\")\n",
    "    data = standardization(data)\n",
    "    print(f\"complete\")\n",
    "    \n",
    "    print(f\"Start searching best learning rate\")\n",
    "    best_lr, best_performance = Adaline_find_learning_rate(data, target, accu, search_lr[0], search_lr[1], search_lr[2], verbose=True)\n",
    "\n",
    "    print(f\"\\nApply learning rate: {best_lr:.7f}, target accuracy: {accu:.3f}\")\n",
    "    ada = Adaline(best_lr, 0, accu)\n",
    "    \n",
    "    print(f\"building k fold data set...\", end=\"\")\n",
    "    k_dataset = k_fold_dataset(data, target, k)\n",
    "    print(f\"complete, training size: {len(k_dataset[0][0])}, test size: {len(k_dataset[0][1])}\")\n",
    "    \n",
    "    print(f\"Start k fold cross validation...\")\n",
    "    result = k_fold_cross_validation(k_dataset, ada, plot, _online=online)\n",
    "\n",
    "    print(f\"--------------------------------------------------------------\")\n",
    "    print(f\"K fold cross validation complete, validaton result:\")\n",
    "    print(f\"test set size: {len(k_dataset[0][1])}, mean: {getMean(result.values)}, std: {getStdDev(result.values):0.3f}, Accuracy: {getMean(result.values)/len(k_dataset[0][1])}\")"
   ]
  },
  {
   "cell_type": "code",
   "execution_count": 16,
   "metadata": {},
   "outputs": [
    {
     "name": "stdout",
     "output_type": "stream",
     "text": [
      "Start Train Adaline, factor: ['pH', 'alcohol'], good: 7, bad: 4, target accuracy: 0.8\n",
      "Standardization data...complete\n",
      "Start searching best learning rate\n",
      "Round: 0, learning rate:0.0057500...Model converge at curEpoch: 3, accuracy: 0.867857, errorNumber: 37\n",
      "Round: 1, learning rate:0.0051044...Model converge at curEpoch: 3, accuracy: 0.867857, errorNumber: 37\n",
      "Round: 2, learning rate:0.0054375...Model converge at curEpoch: 3, accuracy: 0.867857, errorNumber: 37\n",
      "Round: 3, learning rate:0.0081672...Model diverge at curEpoch: 3, accuracy: 0.867857, errorNumber: 37\n",
      "Round: 4, learning rate:0.0069261...Model converge at curEpoch: 3, accuracy: 0.867857, errorNumber: 37\n",
      "Round: 5, learning rate:0.0078002...Model converge at curEpoch: 3, accuracy: 0.867857, errorNumber: 37\n",
      "Round: 6, learning rate:0.0004243...Model converge at curEpoch: 3, accuracy: 0.867857, errorNumber: 37\n",
      "Round: 7, learning rate:0.0025894...Model converge at curEpoch: 3, accuracy: 0.867857, errorNumber: 37\n",
      "Round: 8, learning rate:0.0011305...Model converge at curEpoch: 3, accuracy: 0.867857, errorNumber: 37\n",
      "Round: 9, learning rate:0.0004506...Model converge at curEpoch: 3, accuracy: 0.867857, errorNumber: 37\n",
      "Round: 10, learning rate:0.0072227...Model converge at curEpoch: 3, accuracy: 0.867857, errorNumber: 37\n",
      "Round: 11, learning rate:0.0059556...Model converge at curEpoch: 3, accuracy: 0.867857, errorNumber: 37\n",
      "Round: 12, learning rate:0.0071962...Model converge at curEpoch: 3, accuracy: 0.867857, errorNumber: 37\n",
      "Round: 13, learning rate:0.0080874...Model diverge at curEpoch: 3, accuracy: 0.867857, errorNumber: 37\n",
      "Round: 14, learning rate:0.0051054...Model converge at curEpoch: 3, accuracy: 0.867857, errorNumber: 37\n",
      "Round: 15, learning rate:0.0019987...Model converge at curEpoch: 3, accuracy: 0.867857, errorNumber: 37\n",
      "Round: 16, learning rate:0.0079221...Model converge at curEpoch: 3, accuracy: 0.867857, errorNumber: 37\n",
      "Round: 17, learning rate:0.0034567...Model converge at curEpoch: 3, accuracy: 0.867857, errorNumber: 37\n",
      "Round: 18, learning rate:0.0013460...Model converge at curEpoch: 3, accuracy: 0.867857, errorNumber: 37\n",
      "Round: 19, learning rate:0.0062353...Model converge at curEpoch: 3, accuracy: 0.867857, errorNumber: 37\n",
      "Round: 20, learning rate:0.0035050...Model converge at curEpoch: 3, accuracy: 0.867857, errorNumber: 37\n",
      "Round: 21, learning rate:0.0077478...Model converge at curEpoch: 3, accuracy: 0.867857, errorNumber: 37\n",
      "Round: 22, learning rate:0.0061161...Model converge at curEpoch: 3, accuracy: 0.867857, errorNumber: 37\n",
      "Round: 23, learning rate:0.0010370...Model converge at curEpoch: 3, accuracy: 0.867857, errorNumber: 37\n",
      "Round: 24, learning rate:0.0069846...Model converge at curEpoch: 3, accuracy: 0.867857, errorNumber: 37\n",
      "Round: 25, learning rate:0.0058876...Model converge at curEpoch: 3, accuracy: 0.867857, errorNumber: 37\n",
      "Round: 26, learning rate:0.0039252...Model converge at curEpoch: 3, accuracy: 0.867857, errorNumber: 37\n",
      "Round: 27, learning rate:0.0061281...Model converge at curEpoch: 3, accuracy: 0.867857, errorNumber: 37\n",
      "Round: 28, learning rate:0.0005032...Model converge at curEpoch: 3, accuracy: 0.867857, errorNumber: 37\n",
      "Round: 29, learning rate:0.0003247...Model converge at curEpoch: 3, accuracy: 0.867857, errorNumber: 37\n",
      "--------------------------------------------------------------\n",
      "learning rate searching complete, searching result:\n",
      "best learning rate:  0.0003247, epoch taken: 3, accuracy: 0.868\n",
      "\n",
      "Apply learning rate: 0.0003247, target accuracy: 0.800\n",
      "building k fold data set...complete, training size: 224, test size: 56\n",
      "Start k fold cross validation...\n",
      "k: 0, correct: 48\n",
      "k: 1, correct: 45\n",
      "k: 2, correct: 47\n",
      "k: 3, correct: 50\n",
      "k: 4, correct: 51\n",
      "--------------------------------------------------------------\n",
      "K fold cross validation complete, validaton result:\n",
      "test set size: 56, mean: [48.2], std: 2.387, Accuracy: [0.86071429]\n"
     ]
    }
   ],
   "source": [
    "adaline_training_process(\"winequality-red.csv\", ['pH', 'alcohol'], 7, 4, False, 0.8, search_lr=[30, 0.01, 0.00001], k=5)"
   ]
  },
  {
   "cell_type": "markdown",
   "metadata": {},
   "source": [
    "# Referance\n",
    "A Gentle Introduction to k-fold Cross-Validation: https://machinelearningmastery.com/k-fold-cross-validation/<br>\n",
    "How to Implement Resampling Methods From Scratch In Python: https://machinelearningmastery.com/implement-resampling-methods-scratch-python/<br>\n",
    "How to pick the best learning rate for your machine learning project: https://medium.com/octavian-ai/which-optimizer-and-learning-rate-should-i-use-for-deep-learning-5acb418f9b2<br>"
   ]
  },
  {
   "cell_type": "markdown",
   "metadata": {},
   "source": [
    "# V.5 Adventures in the Nth dimension"
   ]
  },
  {
   "cell_type": "markdown",
   "metadata": {},
   "source": [
    "## a) Training perceptron/ADALINE with different numbers and types of chemical factors."
   ]
  },
  {
   "cell_type": "code",
   "execution_count": null,
   "metadata": {},
   "outputs": [],
   "source": [
    "# Adaline batch: 'pH', 'alcohol', 'density'\n",
    "adaline_training_process(\"winequality-red.csv\", ['pH', 'alcohol', 'density'], 6, 5, False, 0.7, search_lr=[30, 0.01, 0.00001], k=5)"
   ]
  },
  {
   "cell_type": "code",
   "execution_count": null,
   "metadata": {},
   "outputs": [],
   "source": [
    "# Adaline online: 'pH', 'alcohol', 'density'\n",
    "adaline_training_process(\"winequality-red.csv\", ['pH', 'alcohol', 'density'], 7, 4, True, 0.8, search_lr=[30, 0.01, 0.00001], k=5)"
   ]
  },
  {
   "cell_type": "code",
   "execution_count": null,
   "metadata": {},
   "outputs": [],
   "source": [
    "# Adaline batch: 'pH', 'alcohol', 'density', 'volatile acidity'\n",
    "adaline_training_process(\"winequality-red.csv\", ['pH', 'alcohol', 'density', 'volatile acidity'], 7, 4, False, 0.80, search_lr=[30, 0.01, 0.00001], k=5, plot=True)"
   ]
  },
  {
   "cell_type": "code",
   "execution_count": null,
   "metadata": {},
   "outputs": [],
   "source": [
    "# Adaline online: 'pH', 'alcohol', 'density', 'volatile acidity'\n",
    "adaline_training_process(\"winequality-red.csv\", ['pH', 'alcohol', 'density', 'volatile acidity'], 7, 4, True, 0.80, search_lr=[30, 0.01, 0.00001], k=5, plot=True)"
   ]
  },
  {
   "cell_type": "markdown",
   "metadata": {},
   "source": [
    "## b) What does the decision boundary for more then 2 factors look like?"
   ]
  },
  {
   "cell_type": "markdown",
   "metadata": {},
   "source": [
    "### three dimension \n",
    "https://www.projectrhea.org/rhea/images/thumb/2/22/Hyperplane.png/700px-Hyperplane.png\n",
    "### More then three dimension\n",
    "https://i.ytimg.com/vi/Ze8Ts45LVdg/maxresdefault.jpg"
   ]
  },
  {
   "cell_type": "markdown",
   "metadata": {},
   "source": [
    "# V.6 Marvin’s rebuttal"
   ]
  },
  {
   "cell_type": "markdown",
   "metadata": {},
   "source": [
    "## a) Classify the Pan-Galactic Gargle Blaster dataset."
   ]
  },
  {
   "cell_type": "code",
   "execution_count": null,
   "metadata": {},
   "outputs": [],
   "source": [
    "pd.read_csv(\"Pan Galactic Gargle Blaster.csv\", delimiter=\";\")"
   ]
  },
  {
   "cell_type": "code",
   "execution_count": null,
   "metadata": {},
   "outputs": [],
   "source": [
    "adaline_training_process(\"Pan Galactic Gargle Blaster.csv\", ['wonderflonium', 'fallian marsh gas'], 6, 5, False, 0.5, search_lr=[30, 0.01, 0.00001], k=10, plot=True)"
   ]
  },
  {
   "cell_type": "markdown",
   "metadata": {},
   "source": [
    "# VI.2 Do perceptrons dream of electric sheep?"
   ]
  },
  {
   "cell_type": "code",
   "execution_count": 19,
   "metadata": {},
   "outputs": [
    {
     "name": "stderr",
     "output_type": "stream",
     "text": [
      "/anaconda3/lib/python3.7/site-packages/matplotlib/figure.py:457: UserWarning: matplotlib is currently using a non-GUI backend, so cannot show the figure\n",
      "  \"matplotlib is currently using a non-GUI backend, \"\n"
     ]
    },
    {
     "data": {
      "image/png": "[encoded data removed]",
      "text/plain": [
       "<Figure size 1080x360 with 2 Axes>"
      ]
     },
     "metadata": {
      "needs_background": "light"
     },
     "output_type": "display_data"
    }
   ],
   "source": [
    "data , target = build_dataset(\"winequality-red.csv\", ['pH', 'alcohol'], 8, 3)\n",
    "precep = Perceptron(1, 0)\n",
    "performance = precep.train(data.values, target.values, verbose=False)\n",
    "plot_performace(performance, data, target, 8, 3, -1, True)"
   ]
  },
  {
   "cell_type": "code",
   "execution_count": 22,
   "metadata": {},
   "outputs": [
    {
     "data": {
      "image/png": "[encoded data removed]",
      "text/plain": [
       "<Figure size 432x288 with 1 Axes>"
      ]
     },
     "metadata": {
      "needs_background": "light"
     },
     "output_type": "display_data"
    }
   ],
   "source": [
    "import matplotlib.animation as animation\n",
    "\n",
    "fig = plt.figure()\n",
    "ax1 = fig.add_subplot(1, 1, 1)\n",
    "\n",
    "epoch = -1\n",
    "# epoch error check\n",
    "if (epoch == -1):\n",
    "    epoch = len(performance)\n",
    "    \n",
    "def init():\n",
    "    ax.set_xlim(0, 2*np.pi)\n",
    "    ax.set_ylim(-1, 1)\n",
    "    return ln,\n",
    "    \n",
    "def animate(i):\n",
    "    er = []\n",
    "    ep = []\n",
    "    for j in range(i):\n",
    "        ep.append(performance[j][0])\n",
    "        er.append(performance[j][1])\n",
    "    ax1.clear()\n",
    "    ax1.plot(ep, er)\n",
    "    \n",
    "ani = animation.FuncAnimation(fig, animate, init_func=init, frames=200, interval=20)\n",
    "plt.show()"
   ]
  },
  {
   "cell_type": "code",
   "execution_count": 2,
   "metadata": {},
   "outputs": [
    {
     "ename": "ValueError",
     "evalue": "Invalid file object: <_io.BufferedReader name=61>",
     "output_type": "error",
     "traceback": [
      "\u001b[0;31m---------------------------------------------------------------------------\u001b[0m",
      "\u001b[0;31mValueError\u001b[0m                                Traceback (most recent call last)",
      "\u001b[0;32m<ipython-input-2-3300955ebdab>\u001b[0m in \u001b[0;36m<module>\u001b[0;34m()\u001b[0m\n\u001b[1;32m     39\u001b[0m \u001b[0;31m# your system: for more information, see\u001b[0m\u001b[0;34m\u001b[0m\u001b[0;34m\u001b[0m\u001b[0;34m\u001b[0m\u001b[0m\n\u001b[1;32m     40\u001b[0m \u001b[0;31m# http://matplotlib.sourceforge.net/api/animation_api.html\u001b[0m\u001b[0;34m\u001b[0m\u001b[0;34m\u001b[0m\u001b[0;34m\u001b[0m\u001b[0m\n\u001b[0;32m---> 41\u001b[0;31m \u001b[0manim\u001b[0m\u001b[0;34m.\u001b[0m\u001b[0msave\u001b[0m\u001b[0;34m(\u001b[0m\u001b[0;34m'basic_animation.mp4'\u001b[0m\u001b[0;34m,\u001b[0m \u001b[0mfps\u001b[0m\u001b[0;34m=\u001b[0m\u001b[0;36m30\u001b[0m\u001b[0;34m,\u001b[0m \u001b[0mextra_args\u001b[0m\u001b[0;34m=\u001b[0m\u001b[0;34m[\u001b[0m\u001b[0;34m'-vcodec'\u001b[0m\u001b[0;34m,\u001b[0m \u001b[0;34m'libx264'\u001b[0m\u001b[0;34m]\u001b[0m\u001b[0;34m)\u001b[0m\u001b[0;34m\u001b[0m\u001b[0;34m\u001b[0m\u001b[0m\n\u001b[0m\u001b[1;32m     42\u001b[0m \u001b[0;34m\u001b[0m\u001b[0m\n\u001b[1;32m     43\u001b[0m \u001b[0mplt\u001b[0m\u001b[0;34m.\u001b[0m\u001b[0mshow\u001b[0m\u001b[0;34m(\u001b[0m\u001b[0;34m)\u001b[0m\u001b[0;34m\u001b[0m\u001b[0;34m\u001b[0m\u001b[0m\n",
      "\u001b[0;32m/anaconda3/lib/python3.7/site-packages/matplotlib/animation.py\u001b[0m in \u001b[0;36msave\u001b[0;34m(self, filename, writer, fps, dpi, codec, bitrate, extra_args, metadata, extra_anim, savefig_kwargs)\u001b[0m\n\u001b[1;32m   1198\u001b[0m                         \u001b[0;31m# TODO: See if turning off blit is really necessary\u001b[0m\u001b[0;34m\u001b[0m\u001b[0;34m\u001b[0m\u001b[0;34m\u001b[0m\u001b[0m\n\u001b[1;32m   1199\u001b[0m                         \u001b[0manim\u001b[0m\u001b[0;34m.\u001b[0m\u001b[0m_draw_next_frame\u001b[0m\u001b[0;34m(\u001b[0m\u001b[0md\u001b[0m\u001b[0;34m,\u001b[0m \u001b[0mblit\u001b[0m\u001b[0;34m=\u001b[0m\u001b[0;32mFalse\u001b[0m\u001b[0;34m)\u001b[0m\u001b[0;34m\u001b[0m\u001b[0;34m\u001b[0m\u001b[0m\n\u001b[0;32m-> 1200\u001b[0;31m                     \u001b[0mwriter\u001b[0m\u001b[0;34m.\u001b[0m\u001b[0mgrab_frame\u001b[0m\u001b[0;34m(\u001b[0m\u001b[0;34m**\u001b[0m\u001b[0msavefig_kwargs\u001b[0m\u001b[0;34m)\u001b[0m\u001b[0;34m\u001b[0m\u001b[0;34m\u001b[0m\u001b[0m\n\u001b[0m\u001b[1;32m   1201\u001b[0m \u001b[0;34m\u001b[0m\u001b[0m\n\u001b[1;32m   1202\u001b[0m         \u001b[0;31m# Reconnect signal for first draw if necessary\u001b[0m\u001b[0;34m\u001b[0m\u001b[0;34m\u001b[0m\u001b[0;34m\u001b[0m\u001b[0m\n",
      "\u001b[0;32m/anaconda3/lib/python3.7/contextlib.py\u001b[0m in \u001b[0;36m__exit__\u001b[0;34m(self, type, value, traceback)\u001b[0m\n\u001b[1;32m    128\u001b[0m                 \u001b[0mvalue\u001b[0m \u001b[0;34m=\u001b[0m \u001b[0mtype\u001b[0m\u001b[0;34m(\u001b[0m\u001b[0;34m)\u001b[0m\u001b[0;34m\u001b[0m\u001b[0;34m\u001b[0m\u001b[0m\n\u001b[1;32m    129\u001b[0m             \u001b[0;32mtry\u001b[0m\u001b[0;34m:\u001b[0m\u001b[0;34m\u001b[0m\u001b[0;34m\u001b[0m\u001b[0m\n\u001b[0;32m--> 130\u001b[0;31m                 \u001b[0mself\u001b[0m\u001b[0;34m.\u001b[0m\u001b[0mgen\u001b[0m\u001b[0;34m.\u001b[0m\u001b[0mthrow\u001b[0m\u001b[0;34m(\u001b[0m\u001b[0mtype\u001b[0m\u001b[0;34m,\u001b[0m \u001b[0mvalue\u001b[0m\u001b[0;34m,\u001b[0m \u001b[0mtraceback\u001b[0m\u001b[0;34m)\u001b[0m\u001b[0;34m\u001b[0m\u001b[0;34m\u001b[0m\u001b[0m\n\u001b[0m\u001b[1;32m    131\u001b[0m             \u001b[0;32mexcept\u001b[0m \u001b[0mStopIteration\u001b[0m \u001b[0;32mas\u001b[0m \u001b[0mexc\u001b[0m\u001b[0;34m:\u001b[0m\u001b[0;34m\u001b[0m\u001b[0;34m\u001b[0m\u001b[0m\n\u001b[1;32m    132\u001b[0m                 \u001b[0;31m# Suppress StopIteration *unless* it's the same exception that\u001b[0m\u001b[0;34m\u001b[0m\u001b[0;34m\u001b[0m\u001b[0;34m\u001b[0m\u001b[0m\n",
      "\u001b[0;32m/anaconda3/lib/python3.7/site-packages/matplotlib/animation.py\u001b[0m in \u001b[0;36msaving\u001b[0;34m(self, fig, outfile, dpi, *args, **kwargs)\u001b[0m\n\u001b[1;32m    239\u001b[0m             \u001b[0;32myield\u001b[0m \u001b[0mself\u001b[0m\u001b[0;34m\u001b[0m\u001b[0;34m\u001b[0m\u001b[0m\n\u001b[1;32m    240\u001b[0m         \u001b[0;32mfinally\u001b[0m\u001b[0;34m:\u001b[0m\u001b[0;34m\u001b[0m\u001b[0;34m\u001b[0m\u001b[0m\n\u001b[0;32m--> 241\u001b[0;31m             \u001b[0mself\u001b[0m\u001b[0;34m.\u001b[0m\u001b[0mfinish\u001b[0m\u001b[0;34m(\u001b[0m\u001b[0;34m)\u001b[0m\u001b[0;34m\u001b[0m\u001b[0;34m\u001b[0m\u001b[0m\n\u001b[0m\u001b[1;32m    242\u001b[0m \u001b[0;34m\u001b[0m\u001b[0m\n\u001b[1;32m    243\u001b[0m \u001b[0;34m\u001b[0m\u001b[0m\n",
      "\u001b[0;32m/anaconda3/lib/python3.7/site-packages/matplotlib/animation.py\u001b[0m in \u001b[0;36mfinish\u001b[0;34m(self)\u001b[0m\n\u001b[1;32m    365\u001b[0m     \u001b[0;32mdef\u001b[0m \u001b[0mfinish\u001b[0m\u001b[0;34m(\u001b[0m\u001b[0mself\u001b[0m\u001b[0;34m)\u001b[0m\u001b[0;34m:\u001b[0m\u001b[0;34m\u001b[0m\u001b[0;34m\u001b[0m\u001b[0m\n\u001b[1;32m    366\u001b[0m         \u001b[0;34m'''Finish any processing for writing the movie.'''\u001b[0m\u001b[0;34m\u001b[0m\u001b[0;34m\u001b[0m\u001b[0m\n\u001b[0;32m--> 367\u001b[0;31m         \u001b[0mself\u001b[0m\u001b[0;34m.\u001b[0m\u001b[0mcleanup\u001b[0m\u001b[0;34m(\u001b[0m\u001b[0;34m)\u001b[0m\u001b[0;34m\u001b[0m\u001b[0;34m\u001b[0m\u001b[0m\n\u001b[0m\u001b[1;32m    368\u001b[0m \u001b[0;34m\u001b[0m\u001b[0m\n\u001b[1;32m    369\u001b[0m     \u001b[0;32mdef\u001b[0m \u001b[0mgrab_frame\u001b[0m\u001b[0;34m(\u001b[0m\u001b[0mself\u001b[0m\u001b[0;34m,\u001b[0m \u001b[0;34m**\u001b[0m\u001b[0msavefig_kwargs\u001b[0m\u001b[0;34m)\u001b[0m\u001b[0;34m:\u001b[0m\u001b[0;34m\u001b[0m\u001b[0;34m\u001b[0m\u001b[0m\n",
      "\u001b[0;32m/anaconda3/lib/python3.7/site-packages/matplotlib/animation.py\u001b[0m in \u001b[0;36mcleanup\u001b[0;34m(self)\u001b[0m\n\u001b[1;32m    403\u001b[0m     \u001b[0;32mdef\u001b[0m \u001b[0mcleanup\u001b[0m\u001b[0;34m(\u001b[0m\u001b[0mself\u001b[0m\u001b[0;34m)\u001b[0m\u001b[0;34m:\u001b[0m\u001b[0;34m\u001b[0m\u001b[0;34m\u001b[0m\u001b[0m\n\u001b[1;32m    404\u001b[0m         \u001b[0;34m'''Clean-up and collect the process used to write the movie file.'''\u001b[0m\u001b[0;34m\u001b[0m\u001b[0;34m\u001b[0m\u001b[0m\n\u001b[0;32m--> 405\u001b[0;31m         \u001b[0mout\u001b[0m\u001b[0;34m,\u001b[0m \u001b[0merr\u001b[0m \u001b[0;34m=\u001b[0m \u001b[0mself\u001b[0m\u001b[0;34m.\u001b[0m\u001b[0m_proc\u001b[0m\u001b[0;34m.\u001b[0m\u001b[0mcommunicate\u001b[0m\u001b[0;34m(\u001b[0m\u001b[0;34m)\u001b[0m\u001b[0;34m\u001b[0m\u001b[0;34m\u001b[0m\u001b[0m\n\u001b[0m\u001b[1;32m    406\u001b[0m         \u001b[0mself\u001b[0m\u001b[0;34m.\u001b[0m\u001b[0m_frame_sink\u001b[0m\u001b[0;34m(\u001b[0m\u001b[0;34m)\u001b[0m\u001b[0;34m.\u001b[0m\u001b[0mclose\u001b[0m\u001b[0;34m(\u001b[0m\u001b[0;34m)\u001b[0m\u001b[0;34m\u001b[0m\u001b[0;34m\u001b[0m\u001b[0m\n\u001b[1;32m    407\u001b[0m         \u001b[0m_log\u001b[0m\u001b[0;34m.\u001b[0m\u001b[0mdebug\u001b[0m\u001b[0;34m(\u001b[0m\u001b[0;34m'MovieWriter -- Command stdout:\\n%s'\u001b[0m\u001b[0;34m,\u001b[0m \u001b[0mout\u001b[0m\u001b[0;34m)\u001b[0m\u001b[0;34m\u001b[0m\u001b[0;34m\u001b[0m\u001b[0m\n",
      "\u001b[0;32m/anaconda3/lib/python3.7/subprocess.py\u001b[0m in \u001b[0;36mcommunicate\u001b[0;34m(self, input, timeout)\u001b[0m\n\u001b[1;32m    937\u001b[0m \u001b[0;34m\u001b[0m\u001b[0m\n\u001b[1;32m    938\u001b[0m             \u001b[0;32mtry\u001b[0m\u001b[0;34m:\u001b[0m\u001b[0;34m\u001b[0m\u001b[0;34m\u001b[0m\u001b[0m\n\u001b[0;32m--> 939\u001b[0;31m                 \u001b[0mstdout\u001b[0m\u001b[0;34m,\u001b[0m \u001b[0mstderr\u001b[0m \u001b[0;34m=\u001b[0m \u001b[0mself\u001b[0m\u001b[0;34m.\u001b[0m\u001b[0m_communicate\u001b[0m\u001b[0;34m(\u001b[0m\u001b[0minput\u001b[0m\u001b[0;34m,\u001b[0m \u001b[0mendtime\u001b[0m\u001b[0;34m,\u001b[0m \u001b[0mtimeout\u001b[0m\u001b[0;34m)\u001b[0m\u001b[0;34m\u001b[0m\u001b[0;34m\u001b[0m\u001b[0m\n\u001b[0m\u001b[1;32m    940\u001b[0m             \u001b[0;32mexcept\u001b[0m \u001b[0mKeyboardInterrupt\u001b[0m\u001b[0;34m:\u001b[0m\u001b[0;34m\u001b[0m\u001b[0;34m\u001b[0m\u001b[0m\n\u001b[1;32m    941\u001b[0m                 \u001b[0;31m# https://bugs.python.org/issue25942\u001b[0m\u001b[0;34m\u001b[0m\u001b[0;34m\u001b[0m\u001b[0;34m\u001b[0m\u001b[0m\n",
      "\u001b[0;32m/anaconda3/lib/python3.7/subprocess.py\u001b[0m in \u001b[0;36m_communicate\u001b[0;34m(self, input, endtime, orig_timeout)\u001b[0m\n\u001b[1;32m   1670\u001b[0m                     \u001b[0mselector\u001b[0m\u001b[0;34m.\u001b[0m\u001b[0mregister\u001b[0m\u001b[0;34m(\u001b[0m\u001b[0mself\u001b[0m\u001b[0;34m.\u001b[0m\u001b[0mstdin\u001b[0m\u001b[0;34m,\u001b[0m \u001b[0mselectors\u001b[0m\u001b[0;34m.\u001b[0m\u001b[0mEVENT_WRITE\u001b[0m\u001b[0;34m)\u001b[0m\u001b[0;34m\u001b[0m\u001b[0;34m\u001b[0m\u001b[0m\n\u001b[1;32m   1671\u001b[0m                 \u001b[0;32mif\u001b[0m \u001b[0mself\u001b[0m\u001b[0;34m.\u001b[0m\u001b[0mstdout\u001b[0m\u001b[0;34m:\u001b[0m\u001b[0;34m\u001b[0m\u001b[0;34m\u001b[0m\u001b[0m\n\u001b[0;32m-> 1672\u001b[0;31m                     \u001b[0mselector\u001b[0m\u001b[0;34m.\u001b[0m\u001b[0mregister\u001b[0m\u001b[0;34m(\u001b[0m\u001b[0mself\u001b[0m\u001b[0;34m.\u001b[0m\u001b[0mstdout\u001b[0m\u001b[0;34m,\u001b[0m \u001b[0mselectors\u001b[0m\u001b[0;34m.\u001b[0m\u001b[0mEVENT_READ\u001b[0m\u001b[0;34m)\u001b[0m\u001b[0;34m\u001b[0m\u001b[0;34m\u001b[0m\u001b[0m\n\u001b[0m\u001b[1;32m   1673\u001b[0m                 \u001b[0;32mif\u001b[0m \u001b[0mself\u001b[0m\u001b[0;34m.\u001b[0m\u001b[0mstderr\u001b[0m\u001b[0;34m:\u001b[0m\u001b[0;34m\u001b[0m\u001b[0;34m\u001b[0m\u001b[0m\n\u001b[1;32m   1674\u001b[0m                     \u001b[0mselector\u001b[0m\u001b[0;34m.\u001b[0m\u001b[0mregister\u001b[0m\u001b[0;34m(\u001b[0m\u001b[0mself\u001b[0m\u001b[0;34m.\u001b[0m\u001b[0mstderr\u001b[0m\u001b[0;34m,\u001b[0m \u001b[0mselectors\u001b[0m\u001b[0;34m.\u001b[0m\u001b[0mEVENT_READ\u001b[0m\u001b[0;34m)\u001b[0m\u001b[0;34m\u001b[0m\u001b[0;34m\u001b[0m\u001b[0m\n",
      "\u001b[0;32m/anaconda3/lib/python3.7/selectors.py\u001b[0m in \u001b[0;36mregister\u001b[0;34m(self, fileobj, events, data)\u001b[0m\n\u001b[1;32m    350\u001b[0m \u001b[0;34m\u001b[0m\u001b[0m\n\u001b[1;32m    351\u001b[0m     \u001b[0;32mdef\u001b[0m \u001b[0mregister\u001b[0m\u001b[0;34m(\u001b[0m\u001b[0mself\u001b[0m\u001b[0;34m,\u001b[0m \u001b[0mfileobj\u001b[0m\u001b[0;34m,\u001b[0m \u001b[0mevents\u001b[0m\u001b[0;34m,\u001b[0m \u001b[0mdata\u001b[0m\u001b[0;34m=\u001b[0m\u001b[0;32mNone\u001b[0m\u001b[0;34m)\u001b[0m\u001b[0;34m:\u001b[0m\u001b[0;34m\u001b[0m\u001b[0;34m\u001b[0m\u001b[0m\n\u001b[0;32m--> 352\u001b[0;31m         \u001b[0mkey\u001b[0m \u001b[0;34m=\u001b[0m \u001b[0msuper\u001b[0m\u001b[0;34m(\u001b[0m\u001b[0;34m)\u001b[0m\u001b[0;34m.\u001b[0m\u001b[0mregister\u001b[0m\u001b[0;34m(\u001b[0m\u001b[0mfileobj\u001b[0m\u001b[0;34m,\u001b[0m \u001b[0mevents\u001b[0m\u001b[0;34m,\u001b[0m \u001b[0mdata\u001b[0m\u001b[0;34m)\u001b[0m\u001b[0;34m\u001b[0m\u001b[0;34m\u001b[0m\u001b[0m\n\u001b[0m\u001b[1;32m    353\u001b[0m         \u001b[0mpoller_events\u001b[0m \u001b[0;34m=\u001b[0m \u001b[0;36m0\u001b[0m\u001b[0;34m\u001b[0m\u001b[0;34m\u001b[0m\u001b[0m\n\u001b[1;32m    354\u001b[0m         \u001b[0;32mif\u001b[0m \u001b[0mevents\u001b[0m \u001b[0;34m&\u001b[0m \u001b[0mEVENT_READ\u001b[0m\u001b[0;34m:\u001b[0m\u001b[0;34m\u001b[0m\u001b[0;34m\u001b[0m\u001b[0m\n",
      "\u001b[0;32m/anaconda3/lib/python3.7/selectors.py\u001b[0m in \u001b[0;36mregister\u001b[0;34m(self, fileobj, events, data)\u001b[0m\n\u001b[1;32m    236\u001b[0m             \u001b[0;32mraise\u001b[0m \u001b[0mValueError\u001b[0m\u001b[0;34m(\u001b[0m\u001b[0;34m\"Invalid events: {!r}\"\u001b[0m\u001b[0;34m.\u001b[0m\u001b[0mformat\u001b[0m\u001b[0;34m(\u001b[0m\u001b[0mevents\u001b[0m\u001b[0;34m)\u001b[0m\u001b[0;34m)\u001b[0m\u001b[0;34m\u001b[0m\u001b[0;34m\u001b[0m\u001b[0m\n\u001b[1;32m    237\u001b[0m \u001b[0;34m\u001b[0m\u001b[0m\n\u001b[0;32m--> 238\u001b[0;31m         \u001b[0mkey\u001b[0m \u001b[0;34m=\u001b[0m \u001b[0mSelectorKey\u001b[0m\u001b[0;34m(\u001b[0m\u001b[0mfileobj\u001b[0m\u001b[0;34m,\u001b[0m \u001b[0mself\u001b[0m\u001b[0;34m.\u001b[0m\u001b[0m_fileobj_lookup\u001b[0m\u001b[0;34m(\u001b[0m\u001b[0mfileobj\u001b[0m\u001b[0;34m)\u001b[0m\u001b[0;34m,\u001b[0m \u001b[0mevents\u001b[0m\u001b[0;34m,\u001b[0m \u001b[0mdata\u001b[0m\u001b[0;34m)\u001b[0m\u001b[0;34m\u001b[0m\u001b[0;34m\u001b[0m\u001b[0m\n\u001b[0m\u001b[1;32m    239\u001b[0m \u001b[0;34m\u001b[0m\u001b[0m\n\u001b[1;32m    240\u001b[0m         \u001b[0;32mif\u001b[0m \u001b[0mkey\u001b[0m\u001b[0;34m.\u001b[0m\u001b[0mfd\u001b[0m \u001b[0;32min\u001b[0m \u001b[0mself\u001b[0m\u001b[0;34m.\u001b[0m\u001b[0m_fd_to_key\u001b[0m\u001b[0;34m:\u001b[0m\u001b[0;34m\u001b[0m\u001b[0;34m\u001b[0m\u001b[0m\n",
      "\u001b[0;32m/anaconda3/lib/python3.7/selectors.py\u001b[0m in \u001b[0;36m_fileobj_lookup\u001b[0;34m(self, fileobj)\u001b[0m\n\u001b[1;32m    223\u001b[0m         \"\"\"\n\u001b[1;32m    224\u001b[0m         \u001b[0;32mtry\u001b[0m\u001b[0;34m:\u001b[0m\u001b[0;34m\u001b[0m\u001b[0;34m\u001b[0m\u001b[0m\n\u001b[0;32m--> 225\u001b[0;31m             \u001b[0;32mreturn\u001b[0m \u001b[0m_fileobj_to_fd\u001b[0m\u001b[0;34m(\u001b[0m\u001b[0mfileobj\u001b[0m\u001b[0;34m)\u001b[0m\u001b[0;34m\u001b[0m\u001b[0;34m\u001b[0m\u001b[0m\n\u001b[0m\u001b[1;32m    226\u001b[0m         \u001b[0;32mexcept\u001b[0m \u001b[0mValueError\u001b[0m\u001b[0;34m:\u001b[0m\u001b[0;34m\u001b[0m\u001b[0;34m\u001b[0m\u001b[0m\n\u001b[1;32m    227\u001b[0m             \u001b[0;31m# Do an exhaustive search.\u001b[0m\u001b[0;34m\u001b[0m\u001b[0;34m\u001b[0m\u001b[0;34m\u001b[0m\u001b[0m\n",
      "\u001b[0;32m/anaconda3/lib/python3.7/selectors.py\u001b[0m in \u001b[0;36m_fileobj_to_fd\u001b[0;34m(fileobj)\u001b[0m\n\u001b[1;32m     38\u001b[0m         \u001b[0;32mexcept\u001b[0m \u001b[0;34m(\u001b[0m\u001b[0mAttributeError\u001b[0m\u001b[0;34m,\u001b[0m \u001b[0mTypeError\u001b[0m\u001b[0;34m,\u001b[0m \u001b[0mValueError\u001b[0m\u001b[0;34m)\u001b[0m\u001b[0;34m:\u001b[0m\u001b[0;34m\u001b[0m\u001b[0;34m\u001b[0m\u001b[0m\n\u001b[1;32m     39\u001b[0m             raise ValueError(\"Invalid file object: \"\n\u001b[0;32m---> 40\u001b[0;31m                              \"{!r}\".format(fileobj)) from None\n\u001b[0m\u001b[1;32m     41\u001b[0m     \u001b[0;32mif\u001b[0m \u001b[0mfd\u001b[0m \u001b[0;34m<\u001b[0m \u001b[0;36m0\u001b[0m\u001b[0;34m:\u001b[0m\u001b[0;34m\u001b[0m\u001b[0;34m\u001b[0m\u001b[0m\n\u001b[1;32m     42\u001b[0m         \u001b[0;32mraise\u001b[0m \u001b[0mValueError\u001b[0m\u001b[0;34m(\u001b[0m\u001b[0;34m\"Invalid file descriptor: {}\"\u001b[0m\u001b[0;34m.\u001b[0m\u001b[0mformat\u001b[0m\u001b[0;34m(\u001b[0m\u001b[0mfd\u001b[0m\u001b[0;34m)\u001b[0m\u001b[0;34m)\u001b[0m\u001b[0;34m\u001b[0m\u001b[0;34m\u001b[0m\u001b[0m\n",
      "\u001b[0;31mValueError\u001b[0m: Invalid file object: <_io.BufferedReader name=61>"
     ]
    },
    {
     "data": {
      "image/png": "[encoded data removed]",
      "text/plain": [
       "<Figure size 432x288 with 1 Axes>"
      ]
     },
     "metadata": {
      "needs_background": "light"
     },
     "output_type": "display_data"
    }
   ],
   "source": [
    "\"\"\"\n",
    "Matplotlib Animation Example\n",
    "\n",
    "author: Jake Vanderplas\n",
    "email: vanderplas@astro.washington.edu\n",
    "website: http://jakevdp.github.com\n",
    "license: BSD\n",
    "Please feel free to use and modify this, but keep the above information. Thanks!\n",
    "\"\"\"\n",
    "\n",
    "import numpy as np\n",
    "from matplotlib import pyplot as plt\n",
    "from matplotlib import animation\n",
    "\n",
    "# First set up the figure, the axis, and the plot element we want to animate\n",
    "fig = plt.figure()\n",
    "ax = plt.axes(xlim=(0, 2), ylim=(-2, 2))\n",
    "line, = ax.plot([], [], lw=2)\n",
    "\n",
    "# initialization function: plot the background of each frame\n",
    "def init():\n",
    "    line.set_data([], [])\n",
    "    return line,\n",
    "\n",
    "# animation function.  This is called sequentially\n",
    "def animate(i):\n",
    "    x = np.linspace(0, 2, 1000)\n",
    "    y = np.sin(2 * np.pi * (x - 0.01 * i))\n",
    "    line.set_data(x, y)\n",
    "    return line,\n",
    "\n",
    "# call the animator.  blit=True means only re-draw the parts that have changed.\n",
    "anim = animation.FuncAnimation(fig, animate, init_func=init,\n",
    "                               frames=200, interval=20, blit=True)\n",
    "\n",
    "# save the animation as an mp4.  This requires ffmpeg or mencoder to be\n",
    "# installed.  The extra_args ensure that the x264 codec is used, so that\n",
    "# the video can be embedded in html5.  You may need to adjust this for\n",
    "# your system: for more information, see\n",
    "# http://matplotlib.sourceforge.net/api/animation_api.html\n",
    "anim.save('basic_animation.mp4', fps=30, extra_args=['-vcodec', 'libx264'])\n",
    "\n",
    "plt.show()"
   ]
  },
  {
   "cell_type": "code",
   "execution_count": null,
   "metadata": {},
   "outputs": [],
   "source": []
  }
 ],
 "metadata": {
  "kernelspec": {
   "display_name": "Python 3",
   "language": "python",
   "name": "python3"
  },
  "language_info": {
   "codemirror_mode": {
    "name": "ipython",
    "version": 3
   },
   "file_extension": ".py",
   "mimetype": "text/x-python",
   "name": "python",
   "nbconvert_exporter": "python",
   "pygments_lexer": "ipython3",
   "version": "3.7.2"
  }
 },
 "nbformat": 4,
 "nbformat_minor": 2
}
